{
 "cells": [
  {
   "cell_type": "markdown",
   "id": "419259fc-b463-461e-befc-372c486f0def",
   "metadata": {},
   "source": [
    "Q1: What are the Probability Mass Function (PMF) and Probability Density Function (PDF)? Explain with\n",
    "an example."
   ]
  },
  {
   "cell_type": "markdown",
   "id": "0b15f280-3745-4702-ae97-4ec6f88a9bdb",
   "metadata": {},
   "source": [
    "Probability Mass Function (PMF) and Probability Density Function (PDF) are two ways to describe the probability distribution of a random variable.\n",
    "\n",
    "PMF is used to describe the probability distribution of a discrete random variable. It gives the probability that a discrete random variable takes a specific value. The PMF is defined as the probability that the random variable takes on a specific value, i.e., P(X = x), where X is the random variable and x is the value that X takes.\n",
    "\n",
    "For example, consider the random variable X, which represents the outcome of rolling a fair six-sided die. The PMF of X can be written as:\n",
    "\n",
    "P(X = 1) = 1/6\n",
    "P(X = 2) = 1/6\n",
    "P(X = 3) = 1/6\n",
    "P(X = 4) = 1/6\n",
    "P(X = 5) = 1/6\n",
    "P(X = 6) = 1/6\n",
    "\n",
    "PDF, on the other hand, is used to describe the probability distribution of a continuous random variable. It gives the probability density at each point on the continuous range of values that the random variable can take. The PDF is defined as the derivative of the cumulative distribution function (CDF), i.e., f(x) = dF(x)/dx.\n",
    "\n",
    "For example, consider a continuous random variable X that represents the height of adult males in a certain population. The PDF of X can be written as:\n",
    "\n",
    "f(x) = 1/(σ√(2π)) * exp(-(x-μ)²/(2σ²))\n",
    "\n",
    "where μ is the mean height, σ is the standard deviation of height, and exp is the exponential function. This function gives the probability density at each height value x. To find the probability of X falling within a certain range of values, we need to integrate the PDF over that range. For example, to find the probability of X falling between 170 cm and 180 cm, we would calculat"
   ]
  },
  {
   "cell_type": "markdown",
   "id": "df5a056a-2765-4024-823d-807e49deb690",
   "metadata": {},
   "source": [
    "Q2: What is Cumulative Density Function (CDF)? Explain with an example. Why CDF is used?"
   ]
  },
  {
   "cell_type": "markdown",
   "id": "414e92e2-bad8-47b5-b698-c15aa4edf427",
   "metadata": {},
   "source": [
    "Cumulative Density Function (CDF) is a mathematical function that describes the probability of a random variable taking a value less than or equal to a given value. It is a cumulative sum of the probability distribution function (PDF) or probability mass function (PMF) up to a given point.\n",
    "\n",
    "For continuous random variables, the CDF is given by the integral of the PDF:"
   ]
  },
  {
   "cell_type": "markdown",
   "id": "6d4bd4df-5ced-4d55-9123-d0f0b7a16615",
   "metadata": {},
   "source": [
    "\n",
    "Q2: What is Cumulative Density Function (CDF)? Explain with an example. Why CDF is used?"
   ]
  },
  {
   "cell_type": "markdown",
   "id": "05ba30bc-21fb-469a-bce3-ad9bf45f083d",
   "metadata": {},
   "source": [
    "Ans:-A Cumulative Density Function (CDF) is a mathematical function that describes the probability of a random variable taking on a certain value or a value less than or equal to a given value. It represents the cumulative probability distribution of a random variable.\n",
    "\n",
    "For example, let's say we have a random variable X that represents the height of a group of people. We can construct a CDF for this random variable by calculating the probability that a person in the group has a height less than or equal to a certain value. Suppose we calculate the CDF of X and find that the probability of a person having a height less than or equal to 170 cm is 0.6. This means that there is a 60% chance that a person chosen at random from the group has a height less than or equal to 170 cm.\n",
    "\n",
    "CDFs are used for a variety of purposes in statistics and probability. They can be used to calculate the probability of a random variable falling within a certain range, to compare the distribution of different random variables, and to perform hypothesis testing. CDFs are also useful in modeling and simulation, as they can be used to generate random numbers that follow a particular distribution."
   ]
  },
  {
   "cell_type": "markdown",
   "id": "ce87439f-abbc-42ee-8ecb-86227d95aec4",
   "metadata": {},
   "source": [
    "Q3: What are some examples of situations where the normal distribution might be used as a model?\n",
    "Explain how the parameters of the normal distribution relate to the shape of the distribution."
   ]
  },
  {
   "cell_type": "markdown",
   "id": "a730d1d0-3a64-419c-a1e6-4e385087cdb2",
   "metadata": {},
   "source": [
    "Ans:-The normal distribution, also known as the Gaussian distribution, is a common probability distribution used to model a variety of real-world phenomena. Here are some examples of situations where the normal distribution might be used as a model:\n",
    "\n",
    "Heights of people in a population\n",
    "IQ scores of a population\n",
    "Errors in measurements or experimental data\n",
    "Returns on financial investments\n",
    "Amount of rainfall in a region\n",
    "The normal distribution is characterized by two parameters: the mean (µ) and the standard deviation (σ). The mean represents the center of the distribution, while the standard deviation represents the spread of the distribution.\n",
    "\n",
    "The shape of the normal distribution is symmetrical and bell-shaped. The mean is the point of maximum height on the curve, and the standard deviation determines how wide or narrow the curve is. A larger standard deviation leads to a wider, flatter curve, while a smaller standard deviation leads to a narrower, taller curve.\n",
    "\n",
    "In addition, the normal distribution has a property known as the 68-95-99.7 rule, which states that approximately 68% of the values fall within one standard deviation of the mean, 95% of the values fall within two standard deviations of the mean, and 99.7% of the values fall within three standard deviations of the mean. This rule makes the normal distribution a useful tool for calculating probabilities and making predictions in a variety of fields"
   ]
  },
  {
   "cell_type": "markdown",
   "id": "1e5bacd7-4d73-4495-9759-dbf6ab38b139",
   "metadata": {},
   "source": [
    "Q4: Explain the importance of Normal Distribution. Give a few real-life examples of Normal\n",
    "Distribution"
   ]
  },
  {
   "cell_type": "markdown",
   "id": "3fdd626f-650c-4335-935c-dccd6344d01e",
   "metadata": {},
   "source": [
    "Ans:-The normal distribution is a very important concept in statistics and probability theory because it appears in many real-world applications. Here are some reasons why the normal distribution is so important:\n",
    "\n",
    "It is a very good approximation for many real-world phenomena: The normal distribution is often used to model phenomena in the natural and social sciences, such as heights and weights of people, IQ scores, and errors in measurements. It is often used because it is a good approximation of the true distribution of these phenomena.\n",
    "\n",
    "It has well-defined properties: The normal distribution is very well understood mathematically, which makes it easy to work with. This means that many statistical tests and models are based on the normal distribution.\n",
    "\n",
    "It is widely used in statistical inference: Many statistical inference techniques, such as hypothesis testing and confidence intervals, rely on the normal distribution.\n",
    "\n",
    "It provides a useful benchmark: Because the normal distribution is so well-understood, it is often used as a benchmark to compare other distributions against.\n",
    "\n",
    "Here are a few real-life examples of normal distribution:\n",
    "\n",
    "Heights of people in a population: The heights of people in a population are often normally distributed, with the majority of people falling within a certain range of heights.\n",
    "\n",
    "IQ scores: IQ scores are also often normally distributed, with most people scoring around the mean score.\n",
    "\n",
    "Errors in measurements: When measurements are taken, there is often some degree of error involved. These errors are often normally distributed around the true value.\n",
    "\n",
    "Stock prices: Stock prices are often modeled using a log-normal distribution, which is a type of normal distribution that is skewed to the right.\n",
    "\n",
    "Blood pressure: Blood pressure measurements in a population are often normally distributed around a certain mean value."
   ]
  },
  {
   "cell_type": "markdown",
   "id": "f61cbfed-9190-44f0-976f-c156e464529a",
   "metadata": {},
   "source": [
    "Q5: What is Bernaulli Distribution? Give an Example. What is the difference between Bernoulli\n",
    "Distribution and Binomial Distribution"
   ]
  },
  {
   "cell_type": "markdown",
   "id": "a3997171-eae5-4550-a873-ee7e48064713",
   "metadata": {},
   "source": [
    "Ans:-Bernoulli deals with the outcome of the single trial of the event, whereas Binomial deals with the outcome of the multiple trials of the single event. Bernoulli is used when the outcome of an event is required for only one time, whereas the Binomial is used when the outcome of an event is required multiple times."
   ]
  },
  {
   "cell_type": "markdown",
   "id": "8ac3ce68-4add-42b5-95c5-2fbcfed512b3",
   "metadata": {},
   "source": [
    "The Bernoulli distribution is a discrete probability distribution that models the outcomes of a single binary experiment, where there are only two possible outcomes: success (with probability p) and failure (with probability 1-p). It is named after the Swiss mathematician Jacob Bernoulli. The Bernoulli distribution is characterized by a single parameter p, which is the probability of success.\n",
    "\n",
    "An example of a Bernoulli experiment is flipping a coin, where the outcomes are heads (success) and tails (failure). Another example is rolling a die and getting a specific number (success) or not getting that number (failure).\n",
    "\n",
    "The probability mass function (PMF) of the Bernoulli distribution is given by:\n",
    "\n",
    "P(X=x) = p^x * (1-p)^(1-x), for x = 0 or 1\n",
    "\n",
    "where X is a random variable representing the outcome of the experiment.\n",
    "\n",
    "The Binomial distribution, on the other hand, models the number of successes in a fixed number of independent Bernoulli trials. It is characterized by two parameters: n, the number of trials, and p, the probability of success in each trial.\n",
    "\n",
    "The probability mass function (PMF) of the Binomial distribution is given by:\n",
    "\n",
    "P(X=k) = (n choose k) * p^k * (1-p)^(n-k), for k = 0, 1, 2, ..., n\n",
    "\n",
    "where X is a random variable representing the number of successes in n independent Bernoulli trials.\n",
    "\n",
    "In other words, the Bernoulli distribution is a special case of the Binomial distribution, where n=1. The key difference between the two is that the Bernoulli distribution models a single binary experiment, while the Binomial distribution models the number of successes in a fixed number of independent Bernoulli trials."
   ]
  },
  {
   "cell_type": "markdown",
   "id": "a0e57597-5c1e-4598-8cfa-6aa4aff897ef",
   "metadata": {},
   "source": [
    "Q6. Consider a dataset with a mean of 50 and a standard deviation of 10. If we assume that the dataset\n",
    "is normally distributed, what is the probability that a randomly selected observation will be greater\n",
    "than 60? Use the appropriate formula and show your calculations"
   ]
  },
  {
   "cell_type": "markdown",
   "id": "e0858491-399e-4699-a2ff-f6b3608b1252",
   "metadata": {},
   "source": [
    "Ans:-To solve this problem, we can use the standard normal distribution and convert the original dataset to a standard normal distribution by calculating the z-score:\n",
    "\n",
    "z = (x - μ) / σ\n",
    "\n",
    "where x is the value we are interested in, μ is the mean of the dataset, and σ is the standard deviation of the dataset.\n",
    "\n",
    "In this case, we want to find the probability of a randomly selected observation being greater than 60. So, we have:\n",
    "\n",
    "x = 60\n",
    "μ = 50\n",
    "σ = 10\n",
    "\n",
    "z = (60 - 50) / 10 = 1\n",
    "\n",
    "Now, we can look up the probability of a standard normal distribution being greater than 1 using a z-table or a calculator. The probability of a standard normal distribution being greater than 1 is approximately 0.1587.\n",
    "\n",
    "Therefore, the probability of a randomly selected observation from a normally distributed dataset with a mean of 50 and a standard deviation of 10 being greater than 60 is approximately 0.1587 or 15.87%"
   ]
  },
  {
   "cell_type": "markdown",
   "id": "84be2c0e-3b17-4ace-80f9-74c92cbebeff",
   "metadata": {},
   "source": [
    "Q7: Explain uniform Distribution with an example."
   ]
  },
  {
   "cell_type": "code",
   "execution_count": null,
   "id": "d5bde645-2849-4312-ab32-c919b2081608",
   "metadata": {},
   "outputs": [],
   "source": [
    "Ans:-The uniform distribution is a continuous probability distribution that models a situation where all possible outcomes are equally likely. In other words, the probability of an event occurring is the same for all values within a certain range.\n",
    "\n",
    "An example of a uniform distribution is rolling a fair six-sided die. Each of the six outcomes (1, 2, 3, 4, 5, 6) is equally likely, and the probability of rolling any particular number is 1/6. The probability density function (PDF) for a uniform distribution is:\n",
    "\n",
    "f(x) = 1/(b-a)\n",
    "\n",
    "where a is the minimum value in the range and b is the maximum value in the range.\n",
    "\n",
    "For example, suppose we have a uniform distribution of heights between 5 feet and 6 feet, where all heights within that range are equally likely. The PDF for this uniform distribution would be:\n",
    "\n",
    "f(x) = 1/(6-5) = 1\n",
    "\n",
    "for 5 <= x <= 6\n",
    "\n",
    "and 0 otherwise.\n",
    "\n",
    "The uniform distribution can be useful in modeling situations where there is no inherent bias or preference for any particular outcome within a certain range. It is also commonly used in simulations and random number generation."
   ]
  },
  {
   "cell_type": "markdown",
   "id": "64c6e9fa-fde7-4f32-a3ab-d2561ebc3d36",
   "metadata": {},
   "source": []
  },
  {
   "cell_type": "markdown",
   "id": "7ffe6e14-b36a-458d-a5ff-3fe6067f1f64",
   "metadata": {},
   "source": [
    "Q8: What is the z score? State the importance of the z scor"
   ]
  },
  {
   "cell_type": "markdown",
   "id": "08053163-8060-4040-b100-2cbe6c3da68d",
   "metadata": {},
   "source": [
    "Ans:-The z-score, also known as the standard score, is a measure of how many standard deviations an observation or data point is away from the mean of a distribution. The z-score is calculated as:\n",
    "\n",
    "z = (x - μ) / σ\n",
    "\n",
    "where x is the value we are interested in, μ is the mean of the distribution, and σ is the standard deviation of the distribution.\n",
    "\n",
    "The importance of the z-score is that it allows us to standardize and compare values from different distributions, regardless of their units or scales. By calculating the z-score for each value in a distribution, we can transform the data into a standard normal distribution with a mean of 0 and a standard deviation of 1.\n",
    "\n",
    "The standard normal distribution is a very useful tool in statistics and probability theory because it is well understood and has many known properties. By using the z-score and the standard normal distribution, we can calculate probabilities and make statistical inferences about the data.\n",
    "\n",
    "For example, suppose we have two datasets with different scales and units: one dataset measures the heights of students in centimeters, and the other measures their weights in kilograms. To compare these datasets, we can calculate the z-scores for each data point, which will transform them into a standard normal distribution that we can compare directly. This allows us to make meaningful comparisons and draw conclusions about the data, even though they are measured in different units."
   ]
  },
  {
   "cell_type": "code",
   "execution_count": null,
   "id": "f40b0f08-f57f-4b20-9a61-b08d0ccf361a",
   "metadata": {},
   "outputs": [],
   "source": [
    "Q9: What is Central Limit Theorem? State the significance of the Central Limit Theorem"
   ]
  },
  {
   "cell_type": "markdown",
   "id": "4c7e84cb-498d-4d14-80b7-fd3e383798cd",
   "metadata": {},
   "source": [
    "The Central Limit Theorem (CLT) is a fundamental theorem in probability theory that states that as the sample size of a random variable increases, the distribution of the sample means approaches a normal distribution, regardless of the underlying distribution of the original variable, provided that the sample size is sufficiently large.\n",
    "\n",
    "In other words, the Central Limit Theorem states that if we take many random samples of size n from any population, and compute the sample mean of each sample, the distribution of these sample means will approximate a normal distribution, with a mean equal to the population mean and a standard deviation equal to the population standard deviation divided by the square root of n.\n",
    "\n",
    "The significance of the Central Limit Theorem is that it allows us to make inferences about the population mean, even if we do not know the distribution of the population. This is because the distribution of the sample means will be normal, regardless of the distribution of the original variable, as long as the sample size is sufficiently large.\n",
    "\n",
    "The Central Limit Theorem is widely used in statistics, as it forms the basis for many important statistical techniques, such as hypothesis testing, confidence intervals, and regression analysis. It also explains why the normal distribution is so commonly observed in real-world data, since the means of many natural phenomena can be modeled using the normal distribution, due to the Central Limit Theorem."
   ]
  },
  {
   "cell_type": "code",
   "execution_count": null,
   "id": "fbe518a6-0164-4066-b686-0f33b1f58aa0",
   "metadata": {},
   "outputs": [],
   "source": [
    "Q10: State the assumptions of the Central Limit Theorem."
   ]
  },
  {
   "cell_type": "markdown",
   "id": "54a5d80e-bf1a-49cf-bed1-7a6167263770",
   "metadata": {},
   "source": [
    "Ans:-The Central Limit Theorem (CLT) is a powerful result that provides a theoretical foundation for many statistical techniques. However, it requires certain assumptions to be satisfied in order to hold true. The main assumptions of the Central Limit Theorem are:\n",
    "\n",
    "Independence: The observations must be independent of each other. This means that the value of one observation should not influence the value of another observation.\n",
    "\n",
    "Random Sampling: The observations must be randomly sampled from a population. This means that every member of the population must have an equal chance of being selected for the sample.\n",
    "\n",
    "Finite Variance: The population from which the sample is drawn must have a finite variance. This means that the data should not be too spread out, and that the values should not be too far away from the mean.\n",
    "\n",
    "Sample Size: The sample size must be large enough for the Central Limit Theorem to hold. The general rule of thumb is that the sample size should be at least 30.\n",
    "\n",
    "If these assumptions are met, the Central Limit Theorem can be used to make inferences about the population mean, even if the underlying distribution of the population is not known. However, if these assumptions are not met, then the Central Limit Theorem may not hold and other statistical techniques may need to be used."
   ]
  },
  {
   "cell_type": "code",
   "execution_count": null,
   "id": "86990fd9-2bea-460a-b2f5-3bd69b506347",
   "metadata": {},
   "outputs": [],
   "source": []
  }
 ],
 "metadata": {
  "kernelspec": {
   "display_name": "Python 3 (ipykernel)",
   "language": "python",
   "name": "python3"
  },
  "language_info": {
   "codemirror_mode": {
    "name": "ipython",
    "version": 3
   },
   "file_extension": ".py",
   "mimetype": "text/x-python",
   "name": "python",
   "nbconvert_exporter": "python",
   "pygments_lexer": "ipython3",
   "version": "3.10.8"
  }
 },
 "nbformat": 4,
 "nbformat_minor": 5
}
